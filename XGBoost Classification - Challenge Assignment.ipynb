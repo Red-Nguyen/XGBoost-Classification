{
 "cells": [
  {
   "cell_type": "code",
   "execution_count": 1,
   "metadata": {},
   "outputs": [],
   "source": [
    "import pandas as pd\n",
    "import numpy as np\n",
    "from sklearn.model_selection import train_test_split, GridSearchCV\n",
    "from xgboost import XGBClassifier\n",
    "from sklearn.metrics import f1_score\n",
    "from sklearn.pipeline import Pipeline\n",
    "from sklearn.impute import SimpleImputer\n",
    "from sklearn.preprocessing import StandardScaler, OneHotEncoder\n",
    "from sklearn.compose import ColumnTransformer\n",
    "\n",
    "# Load data\n",
    "features = pd.read_csv('train.csv').sample(frac=0.1, random_state=0)  \n",
    "targets = pd.read_csv('train_labels.csv')\n",
    "\n",
    "# Convert 'Id' to str type to match the data type of 'session_id'\n",
    "features['Id'] = features['Id'].astype(str)\n",
    "\n",
    "# Merge datasets\n",
    "data = pd.merge(features, targets, left_on='Id', right_on='session_id', how='right')\n",
    "\n",
    "# Separate into features and target variable\n",
    "X = data.drop(columns=['session_id', 'correct'])  \n",
    "y = data['correct']\n",
    "\n",
    "# Handle preprocessing for numerical and categorical features\n",
    "numeric_features = X.select_dtypes(include=['int64', 'float64']).columns\n",
    "categorical_features = X.select_dtypes(include=['object']).columns.difference(['Id', 'session_id'])  \n",
    "\n",
    "numeric_transformer = Pipeline(steps=[\n",
    "    ('imputer', SimpleImputer(strategy='mean')),\n",
    "    ('scaler', StandardScaler())\n",
    "])\n",
    "\n",
    "categorical_transformer = Pipeline(steps=[\n",
    "    ('imputer', SimpleImputer(strategy='most_frequent')),\n",
    "    ('onehot', OneHotEncoder(handle_unknown='ignore'))\n",
    "])\n",
    "\n",
    "preprocessor = ColumnTransformer(\n",
    "    transformers=[\n",
    "        ('num', numeric_transformer, numeric_features),\n",
    "        ('cat', categorical_transformer, categorical_features)\n",
    "    ]\n",
    ")\n",
    "\n",
    "# Model definition\n",
    "model = XGBClassifier()\n",
    "\n",
    "# Create a pipeline\n",
    "pipeline = Pipeline(steps=[\n",
    "    ('preprocessor', preprocessor),\n",
    "    ('model', model)\n",
    "])\n",
    "\n",
    "# Reduced grid search parameters\n",
    "param_grid = {\n",
    "    'model__learning_rate': [0.1],  # Reduced the options\n",
    "    'model__n_estimators': [100],   # Reduced the options\n",
    "    'model__max_depth': [3, 5]\n",
    "}\n",
    "\n",
    "# Perform grid search\n",
    "grid_search = GridSearchCV(pipeline, param_grid, cv=5, n_jobs=-1, verbose=1, scoring='f1')"
   ]
  },
  {
   "cell_type": "code",
   "execution_count": 3,
   "metadata": {},
   "outputs": [
    {
     "name": "stdout",
     "output_type": "stream",
     "text": [
      "Fitting 5 folds for each of 2 candidates, totalling 10 fits\n"
     ]
    }
   ],
   "source": [
    "# Fit the grid search to the data\n",
    "grid_search.fit(X, y)\n",
    "\n",
    "# Print the best parameters and score\n",
    "print(\"Best parameters found: \", grid_search.best_params_)\n",
    "print(\"Best cross-validation score: {:.2f}\".format(grid_search.best_score_))\n",
    "\n",
    "# Make predictions with the best parameters\n",
    "y_pred = grid_search.best_estimator_.predict(X)\n",
    "\n",
    "# Calculate F1 score\n",
    "f1 = f1_score(y, y_pred)\n",
    "print(f\"F1 Score on training data: {f1}\")\n",
    "\n",
    "# Load the test data (adjust the filename as per your dataset)\n",
    "test_data = pd.read_csv('test.csv')\n",
    "\n",
    "# Make predictions on the test data\n",
    "test_predictions = grid_search.best_estimator_.predict(test_data)\n",
    "\n",
    "# For instance, saving the predictions to a CSV file\n",
    "submission = pd.DataFrame({'Id': test_data['Id'], 'Prediction': test_predictions})\n",
    "submission.to_csv('submission.csv', index=False)\n",
    "\n",
    "print(\"Predictions saved to submission.csv\")"
   ]
  }
 ],
 "metadata": {
  "kernelspec": {
   "display_name": "Python 3",
   "language": "python",
   "name": "python3"
  },
  "language_info": {
   "codemirror_mode": {
    "name": "ipython",
    "version": 3
   },
   "file_extension": ".py",
   "mimetype": "text/x-python",
   "name": "python",
   "nbconvert_exporter": "python",
   "pygments_lexer": "ipython3",
   "version": "3.11.4"
  }
 },
 "nbformat": 4,
 "nbformat_minor": 2
}
